{
 "cells": [
  {
   "cell_type": "code",
   "execution_count": 1,
   "id": "75cd66e3",
   "metadata": {},
   "outputs": [],
   "source": [
    "import pandas as pd\n",
    "from mrmr import mrmr_classif\n",
    "from sklearn.model_selection import train_test_split\n",
    "from sklearn.preprocessing import StandardScaler\n",
    "from sklearn.metrics import confusion_matrix, classification_report, roc_curve, auc\n",
    "import matplotlib.pyplot as plt\n",
    "import seaborn as sn\n",
    "import tensorflow as tf\n",
    "from tensorflow.keras.layers import GRU, Dense, Conv1D, BatchNormalization, Dropout, Flatten\n",
    "from tensorflow.keras.models import Sequential\n",
    "from tensorflow.keras.callbacks import EarlyStopping, LearningRateScheduler"
   ]
  },
  {
   "cell_type": "code",
   "execution_count": 2,
   "id": "7c6f9491",
   "metadata": {},
   "outputs": [],
   "source": [
    "train_data = pd.read_csv(\"C:\\\\123\\\\SRMAP\\\\Semester 5\\\\UROP\\\\\\Train and Test dataset\\\\KDDTrain+.txt\", header=None)\n",
    "test_data = pd.read_csv(\"C:\\\\123\\\\SRMAP\\\\Semester 5\\\\UROP\\\\Train and Test dataset\\\\KDDTest+.txt\", header=None)"
   ]
  },
  {
   "cell_type": "code",
   "execution_count": 3,
   "id": "155cd707",
   "metadata": {},
   "outputs": [],
   "source": [
    "columns = (['duration', 'protocol_type', 'service', 'flag', 'src_bytes', 'dst_bytes', 'land', 'wrong_fragment',\n",
    "            'urgent', 'hot', 'num_failed_logins', 'logged_in', 'num_compromised', 'root_shell', 'su_attempted',\n",
    "            'num_root', 'num_file_creations', 'num_shells', 'num_access_files', 'num_outbound_cmds', 'is_host_login',\n",
    "            'is_guest_login', 'count', 'srv_count', 'serror_rate', 'srv_serror_rate', 'rerror_rate', 'srv_rerror_rate',\n",
    "            'same_srv_rate', 'diff_srv_rate', 'srv_diff_host_rate', 'dst_host_count', 'dst_host_srv_count',\n",
    "            'dst_host_same_srv_rate', 'dst_host_diff_srv_rate', 'dst_host_same_src_port_rate',\n",
    "            'dst_host_srv_diff_host_rate', 'dst_host_serror_rate', 'dst_host_srv_serror_rate', 'dst_host_rerror_rate',\n",
    "            'dst_host_srv_rerror_rate', 'attack', 'level'])\n",
    "\n",
    "train_data.columns = columns\n",
    "test_data.columns = columns"
   ]
  },
  {
   "cell_type": "code",
   "execution_count": 4,
   "id": "2f4be894",
   "metadata": {},
   "outputs": [],
   "source": [
    "train_data['attack_bit'] = train_data.attack.map(lambda a: 0 if a == 'normal' else 1)\n",
    "test_data['attack_bit'] = test_data.attack.map(lambda a: 0 if a == 'normal' else 1)"
   ]
  },
  {
   "cell_type": "code",
   "execution_count": 5,
   "id": "85d51be5",
   "metadata": {},
   "outputs": [],
   "source": [
    "train_data_attack = train_data[train_data['attack_bit'] == 1]\n",
    "train_data_non_attack = train_data[train_data['attack_bit'] == 0]\n",
    "train_data_non_attack_downsampled = train_data_non_attack.sample(train_data_attack.shape[0])\n",
    "train_data_balanced = pd.concat([train_data_non_attack_downsampled, train_data_attack])"
   ]
  },
  {
   "cell_type": "code",
   "execution_count": 6,
   "id": "30d40d90",
   "metadata": {},
   "outputs": [],
   "source": [
    "columns_to_drop = ['attack_bit', 'level', 'attack']\n",
    "x_train = train_data_balanced.drop(columns=columns_to_drop, axis=1)\n",
    "y_train = train_data_balanced['attack_bit']"
   ]
  },
  {
   "cell_type": "code",
   "execution_count": 7,
   "id": "9930d30b",
   "metadata": {},
   "outputs": [],
   "source": [
    "numeric_columns1 = x_train.select_dtypes(include=['number']).columns\n",
    "categorical_columns1 = x_train.select_dtypes(exclude=['number']).columns\n",
    "X_categorical1 = pd.get_dummies(x_train[categorical_columns1], drop_first=True)\n",
    "train = pd.concat([x_train[numeric_columns1], X_categorical1], axis=1)\n",
    "train = train.astype(int)"
   ]
  },
  {
   "cell_type": "code",
   "execution_count": 8,
   "id": "fa671c2a",
   "metadata": {},
   "outputs": [],
   "source": [
    "x_test = test_data.drop(columns=columns_to_drop, axis=1)\n",
    "y_test = test_data['attack_bit']\n",
    "numeric_columns2 = x_test.select_dtypes(include=['number']).columns\n",
    "categorical_columns2 = x_test.select_dtypes(exclude=['number']).columns\n",
    "X_categorical2 = pd.get_dummies(x_test[categorical_columns2], drop_first=True)\n",
    "test = pd.concat([x_test[numeric_columns2], X_categorical2], axis=1)\n",
    "test = test.astype(int)"
   ]
  },
  {
   "cell_type": "code",
   "execution_count": 9,
   "id": "cf86ffd5",
   "metadata": {},
   "outputs": [],
   "source": [
    "x_train, x_val, y_train, y_val = train_test_split(train, y_train, test_size=0.3, random_state=42)"
   ]
  },
  {
   "cell_type": "code",
   "execution_count": 27,
   "id": "9a1b3cc8",
   "metadata": {},
   "outputs": [
    {
     "data": {
      "text/plain": [
       "(35178, 119)"
      ]
     },
     "execution_count": 27,
     "metadata": {},
     "output_type": "execute_result"
    }
   ],
   "source": [
    "x_val.shape"
   ]
  },
  {
   "cell_type": "code",
   "execution_count": 28,
   "id": "5dd36424",
   "metadata": {},
   "outputs": [
    {
     "data": {
      "text/plain": [
       "(35178,)"
      ]
     },
     "execution_count": 28,
     "metadata": {},
     "output_type": "execute_result"
    }
   ],
   "source": [
    "y_val.shape"
   ]
  },
  {
   "cell_type": "code",
   "execution_count": 10,
   "id": "b193b509",
   "metadata": {},
   "outputs": [
    {
     "name": "stderr",
     "output_type": "stream",
     "text": [
      "100%|██████████████████████████████████████████████████████████████████████████████████| 20/20 [00:09<00:00,  2.20it/s]\n"
     ]
    }
   ],
   "source": [
    "selected_features = mrmr_classif(x_train, y_train, 20)\n",
    "X_train_selected = x_train[selected_features]\n",
    "X_val_selected = x_val[selected_features]"
   ]
  },
  {
   "cell_type": "code",
   "execution_count": 11,
   "id": "8a921757",
   "metadata": {},
   "outputs": [],
   "source": [
    "scaler = StandardScaler()\n",
    "X_train_selected_scalar = scaler.fit_transform(X_train_selected)\n",
    "X_val_selected_scalar = scaler.transform(X_val_selected)"
   ]
  },
  {
   "cell_type": "code",
   "execution_count": 12,
   "id": "50f7a0f5",
   "metadata": {},
   "outputs": [],
   "source": [
    "model = Sequential()\n",
    "model.add(Conv1D(32, 3, activation='relu', input_shape=(X_train_selected_scalar.shape[1], 1)))\n",
    "model.add(BatchNormalization())\n",
    "model.add(GRU(64, activation='tanh', return_sequences=True))\n",
    "model.add(Dropout(0.3))\n",
    "model.add(GRU(32, activation='tanh'))\n",
    "model.add(Dense(1, activation='sigmoid'))"
   ]
  },
  {
   "cell_type": "code",
   "execution_count": 13,
   "id": "6f46f118",
   "metadata": {},
   "outputs": [],
   "source": [
    "METRICS = [\n",
    "    tf.keras.metrics.BinaryAccuracy(name='accuracy'),\n",
    "    tf.keras.metrics.Precision(name='precision'),\n",
    "    tf.keras.metrics.Recall(name='recall')\n",
    "]\n",
    "\n",
    "model.compile(optimizer=tf.keras.optimizers.Adam(learning_rate=0.001),\n",
    "              loss='binary_crossentropy',\n",
    "              metrics=METRICS)"
   ]
  },
  {
   "cell_type": "code",
   "execution_count": 14,
   "id": "4f2a62a9",
   "metadata": {},
   "outputs": [],
   "source": [
    "early_stopping = EarlyStopping(monitor='val_loss', patience=5, restore_best_weights=True)\n",
    "def lr_scheduler(epoch, lr):\n",
    "    if epoch % 10 == 0 and epoch != 0:\n",
    "        return lr * 0.9\n",
    "    return lr\n",
    "lr_schedule = LearningRateScheduler(lr_scheduler)"
   ]
  },
  {
   "cell_type": "code",
   "execution_count": 15,
   "id": "0f7eece4",
   "metadata": {},
   "outputs": [],
   "source": [
    "X_train_selected_scalar_reshape = X_train_selected_scalar.reshape(X_train_selected_scalar.shape[0], X_train_selected_scalar.shape[1], 1)"
   ]
  },
  {
   "cell_type": "code",
   "execution_count": 54,
   "id": "8860d287",
   "metadata": {},
   "outputs": [
    {
     "name": "stdout",
     "output_type": "stream",
     "text": [
      "Epoch 1/50\n",
      "2309/2309 [==============================] - 26s 11ms/step - loss: 0.0595 - accuracy: 0.9784 - precision: 0.9849 - recall: 0.9719 - val_loss: 0.0579 - val_accuracy: 0.9783 - val_precision: 0.9867 - val_recall: 0.9692 - lr: 0.0010\n",
      "Epoch 2/50\n",
      "2309/2309 [==============================] - 27s 12ms/step - loss: 0.0573 - accuracy: 0.9792 - precision: 0.9857 - recall: 0.9727 - val_loss: 0.0580 - val_accuracy: 0.9776 - val_precision: 0.9833 - val_recall: 0.9711 - lr: 0.0010\n",
      "Epoch 3/50\n",
      "2309/2309 [==============================] - 25s 11ms/step - loss: 0.0566 - accuracy: 0.9794 - precision: 0.9853 - recall: 0.9735 - val_loss: 0.0605 - val_accuracy: 0.9769 - val_precision: 0.9792 - val_recall: 0.9739 - lr: 0.0010\n",
      "Epoch 4/50\n",
      "2309/2309 [==============================] - 25s 11ms/step - loss: 0.0541 - accuracy: 0.9804 - precision: 0.9859 - recall: 0.9750 - val_loss: 0.0561 - val_accuracy: 0.9784 - val_precision: 0.9909 - val_recall: 0.9652 - lr: 0.0010\n",
      "Epoch 5/50\n",
      "2309/2309 [==============================] - 35s 15ms/step - loss: 0.0537 - accuracy: 0.9800 - precision: 0.9851 - recall: 0.9751 - val_loss: 0.0549 - val_accuracy: 0.9784 - val_precision: 0.9919 - val_recall: 0.9642 - lr: 0.0010\n",
      "Epoch 6/50\n",
      "2309/2309 [==============================] - 28s 12ms/step - loss: 0.0525 - accuracy: 0.9809 - precision: 0.9863 - recall: 0.9756 - val_loss: 0.0588 - val_accuracy: 0.9786 - val_precision: 0.9936 - val_recall: 0.9628 - lr: 0.0010\n",
      "Epoch 7/50\n",
      "2309/2309 [==============================] - 26s 11ms/step - loss: 0.0527 - accuracy: 0.9808 - precision: 0.9860 - recall: 0.9757 - val_loss: 0.0505 - val_accuracy: 0.9809 - val_precision: 0.9812 - val_recall: 0.9800 - lr: 0.0010\n",
      "Epoch 8/50\n",
      "2309/2309 [==============================] - 27s 12ms/step - loss: 0.0526 - accuracy: 0.9805 - precision: 0.9851 - recall: 0.9760 - val_loss: 0.0501 - val_accuracy: 0.9817 - val_precision: 0.9849 - val_recall: 0.9781 - lr: 0.0010\n",
      "Epoch 9/50\n",
      "2309/2309 [==============================] - 27s 12ms/step - loss: 0.0498 - accuracy: 0.9814 - precision: 0.9864 - recall: 0.9765 - val_loss: 0.0456 - val_accuracy: 0.9836 - val_precision: 0.9885 - val_recall: 0.9781 - lr: 0.0010\n",
      "Epoch 10/50\n",
      "2309/2309 [==============================] - 27s 12ms/step - loss: 0.0494 - accuracy: 0.9814 - precision: 0.9869 - recall: 0.9760 - val_loss: 0.0477 - val_accuracy: 0.9825 - val_precision: 0.9885 - val_recall: 0.9758 - lr: 0.0010\n",
      "Epoch 11/50\n",
      "2309/2309 [==============================] - 28s 12ms/step - loss: 0.0483 - accuracy: 0.9819 - precision: 0.9876 - recall: 0.9764 - val_loss: 0.0687 - val_accuracy: 0.9756 - val_precision: 0.9822 - val_recall: 0.9682 - lr: 9.0000e-04\n",
      "Epoch 12/50\n",
      "2309/2309 [==============================] - 27s 12ms/step - loss: 0.0479 - accuracy: 0.9824 - precision: 0.9876 - recall: 0.9773 - val_loss: 0.0494 - val_accuracy: 0.9806 - val_precision: 0.9855 - val_recall: 0.9751 - lr: 9.0000e-04\n",
      "Epoch 13/50\n",
      "2309/2309 [==============================] - 27s 12ms/step - loss: 0.0465 - accuracy: 0.9825 - precision: 0.9870 - recall: 0.9781 - val_loss: 0.0468 - val_accuracy: 0.9818 - val_precision: 0.9910 - val_recall: 0.9721 - lr: 9.0000e-04\n",
      "Epoch 14/50\n",
      "2309/2309 [==============================] - 28s 12ms/step - loss: 0.0465 - accuracy: 0.9825 - precision: 0.9876 - recall: 0.9776 - val_loss: 0.0500 - val_accuracy: 0.9806 - val_precision: 0.9846 - val_recall: 0.9761 - lr: 9.0000e-04\n"
     ]
    }
   ],
   "source": [
    "history = model.fit(X_train_selected_scalar_reshape, y_train, epochs=50, batch_size=32, validation_split=0.1,\n",
    "                    callbacks=[early_stopping, lr_schedule])"
   ]
  },
  {
   "cell_type": "code",
   "execution_count": 22,
   "id": "d4a79c62",
   "metadata": {},
   "outputs": [
    {
     "name": "stdout",
     "output_type": "stream",
     "text": [
      "1100/1100 [==============================] - 4s 3ms/step\n"
     ]
    }
   ],
   "source": [
    "y_val_predicted = model.predict(X_val_selected_scalar)"
   ]
  },
  {
   "cell_type": "code",
   "execution_count": 29,
   "id": "9b8f4074",
   "metadata": {},
   "outputs": [
    {
     "data": {
      "text/plain": [
       "(35178, 1)"
      ]
     },
     "execution_count": 29,
     "metadata": {},
     "output_type": "execute_result"
    }
   ],
   "source": [
    "y_val_predicted.shape"
   ]
  },
  {
   "cell_type": "code",
   "execution_count": 31,
   "id": "7a3bef8d",
   "metadata": {},
   "outputs": [],
   "source": [
    "y_val_predicted_flatten = y_val_predicted.flatten()"
   ]
  },
  {
   "cell_type": "code",
   "execution_count": 32,
   "id": "38bfaf3f",
   "metadata": {},
   "outputs": [
    {
     "data": {
      "text/plain": [
       "(35178,)"
      ]
     },
     "execution_count": 32,
     "metadata": {},
     "output_type": "execute_result"
    }
   ],
   "source": [
    "y_val_predicted_flatten.shape"
   ]
  },
  {
   "cell_type": "code",
   "execution_count": 33,
   "id": "62550109",
   "metadata": {},
   "outputs": [
    {
     "name": "stdout",
     "output_type": "stream",
     "text": [
      "0.31550616\n"
     ]
    }
   ],
   "source": [
    "import numpy as np\n",
    "from sklearn.metrics import roc_curve, auc\n",
    "import matplotlib.pyplot as plt\n",
    "\n",
    "# Assuming you have your binary classification model predictions and true labels\n",
    "y_true = y_val\n",
    "y_scores = y_val_predicted_flatten\n",
    "\n",
    "fpr, tpr, thresholds = roc_curve(y_true, y_scores)\n",
    "roc_auc = auc(fpr, tpr)\n",
    "\n",
    "# Find the optimal threshold\n",
    "optimal_threshold = thresholds[np.argmin(np.sqrt((1 - tpr) ** 2 + fpr ** 2))]\n",
    "print(optimal_threshold)"
   ]
  },
  {
   "cell_type": "code",
   "execution_count": 17,
   "id": "ae952cdc",
   "metadata": {},
   "outputs": [
    {
     "name": "stdout",
     "output_type": "stream",
     "text": [
      "705/705 [==============================] - 3s 3ms/step\n"
     ]
    }
   ],
   "source": [
    "Y_test_selected = test[selected_features]\n",
    "Y_test_selected_scalar = scaler.transform(Y_test_selected)\n",
    "y_test_predicted = model.predict(Y_test_selected_scalar)"
   ]
  },
  {
   "cell_type": "code",
   "execution_count": 52,
   "id": "d49ddff7",
   "metadata": {},
   "outputs": [],
   "source": [
    "import numpy as np\n",
    "\n",
    "#y_test_predicted_flatten = y_test_predicted.flatten()\n",
    "y_test_predicted1 = np.where(y_test_predicted_flatten >= 0.031, 1, 0)"
   ]
  },
  {
   "cell_type": "code",
   "execution_count": 53,
   "id": "035d9138",
   "metadata": {},
   "outputs": [
    {
     "name": "stdout",
     "output_type": "stream",
     "text": [
      "Confusion Matrix:\n",
      "[[ 8416  1295]\n",
      " [ 2394 10439]]\n",
      "\n",
      "Classification Report:\n",
      "              precision    recall  f1-score   support\n",
      "\n",
      "           0       0.78      0.87      0.82      9711\n",
      "           1       0.89      0.81      0.85     12833\n",
      "\n",
      "    accuracy                           0.84     22544\n",
      "   macro avg       0.83      0.84      0.84     22544\n",
      "weighted avg       0.84      0.84      0.84     22544\n",
      "\n"
     ]
    }
   ],
   "source": [
    "from sklearn.metrics import confusion_matrix, classification_report\n",
    "\n",
    "cm = confusion_matrix(y_test, y_test_predicted1)\n",
    "print(\"Confusion Matrix:\")\n",
    "print(cm)\n",
    "print(\"\\nClassification Report:\")\n",
    "print(classification_report(y_test, y_test_predicted1))"
   ]
  },
  {
   "cell_type": "code",
   "execution_count": 21,
   "id": "933e6ef4",
   "metadata": {},
   "outputs": [
    {
     "data": {
      "image/png": "[encoded data removed]",
      "text/plain": [
       "<Figure size 640x480 with 1 Axes>"
      ]
     },
     "metadata": {},
     "output_type": "display_data"
    }
   ],
   "source": [
    "fpr, tpr, thresholds = roc_curve(y_test, y_test_predicted_flatten)\n",
    "roc_auc = auc(fpr, tpr)\n",
    "plt.figure()\n",
    "plt.plot(fpr, tpr, color='darkorange', lw=2, label='ROC curve (area = %0.2f)' % roc_auc)\n",
    "plt.plot([0, 1], [0, 1], color='navy', lw=2, linestyle='--')\n",
    "plt.xlim([0.0, 1.0])\n",
    "plt.ylim([0.0, 1.05])\n",
    "plt.xlabel('False Positive Rate')\n",
    "plt.ylabel('True Positive Rate')\n",
    "plt.title('Receiver Operating Characteristic')\n",
    "plt.legend(loc='lower right')\n",
    "plt.show()"
   ]
  },
  {
   "cell_type": "code",
   "execution_count": null,
   "id": "f9370dee",
   "metadata": {},
   "outputs": [],
   "source": []
  }
 ],
 "metadata": {
  "kernelspec": {
   "display_name": "Python 3 (ipykernel)",
   "language": "python",
   "name": "python3"
  },
  "language_info": {
   "codemirror_mode": {
    "name": "ipython",
    "version": 3
   },
   "file_extension": ".py",
   "mimetype": "text/x-python",
   "name": "python",
   "nbconvert_exporter": "python",
   "pygments_lexer": "ipython3",
   "version": "3.8.7"
  }
 },
 "nbformat": 4,
 "nbformat_minor": 5
}
